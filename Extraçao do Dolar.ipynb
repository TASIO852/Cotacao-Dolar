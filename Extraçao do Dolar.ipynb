{
 "cells": [
  {
   "cell_type": "markdown",
   "metadata": {},
   "source": [
    "# Automação Web e Busca de Informações do Dolar"
   ]
  },
  {
   "cell_type": "code",
   "execution_count": 9,
   "metadata": {},
   "outputs": [
    {
     "name": "stdout",
     "output_type": "stream",
     "text": [
      "5.2789\n",
      "5.688278695\n",
      "338.43\n"
     ]
    }
   ],
   "source": [
    "from selenium import webdriver\n",
    "from selenium.webdriver.common.keys import Keys\n",
    "from selenium.webdriver.common.by import By\n",
    "\n",
    "# para rodar o chrome em 2º plano\n",
    "# from selenium.webdriver.chrome.options import Options\n",
    "# chrome_options = Options()\n",
    "# chrome_options.headless = True \n",
    "# navegador = webdriver.Chrome(options=chrome_options)\n",
    "\n",
    "# abrir um navegador\n",
    "navegador = webdriver.Chrome()\n",
    "# caso queira deixar na mesma pasta do seu código\n",
    "# navegador = webdriver.Chrome(\"chromedriver.exe\")\n",
    "\n",
    "\n",
    "navegador.get(\"https://www.google.com/\")\n",
    "\n",
    "# Passo 1: Pegar a cotação do Dólar\n",
    "navegador.find_element(By.XPATH,\n",
    "    '/html/body/div[1]/div[3]/form/div[1]/div[1]/div[1]/div/div[2]/input').send_keys(\"cotação dólar\")\n",
    "\n",
    "navegador.find_element(By.XPATH,\n",
    "    '/html/body/div[1]/div[3]/form/div[1]/div[1]/div[1]/div/div[2]/input').send_keys(Keys.ENTER)\n",
    "\n",
    "cotacao_dolar = navegador.find_element(By.XPATH,\n",
    "    '//*[@id=\"knowledge-currency__updatable-data-column\"]/div[1]/div[2]/span[1]').get_attribute(\"data-value\") \n",
    "print(cotacao_dolar)\n",
    "\n",
    "# Passo 2: Pegar a cotação do Euro\n",
    "navegador.get(\"https://www.google.com/\")\n",
    "navegador.find_element(By.XPATH,\n",
    "    '/html/body/div[1]/div[3]/form/div[1]/div[1]/div[1]/div/div[2]/input').send_keys(\"cotação euro\")\n",
    "navegador.find_element(By.XPATH,\n",
    "    '/html/body/div[1]/div[3]/form/div[1]/div[1]/div[1]/div/div[2]/input').send_keys(Keys.ENTER)\n",
    "\n",
    "cotacao_euro = navegador.find_element(By.XPATH,\n",
    "    '//*[@id=\"knowledge-currency__updatable-data-column\"]/div[1]/div[2]/span[1]').get_attribute(\"data-value\")\n",
    "print(cotacao_euro)\n",
    "\n",
    "# Passo 3: Pegar a cotação do Ouro\n",
    "navegador.get(\"https://www.melhorcambio.com/ouro-hoje\")\n",
    "\n",
    "cotacao_ouro = navegador.find_element(By.XPATH, '//*[@id=\"comercial\"]').get_attribute(\"value\")\n",
    "cotacao_ouro = cotacao_ouro.replace(\",\", \".\")\n",
    "print(cotacao_ouro)\n",
    "\n",
    "navegador.quit()"
   ]
  },
  {
   "cell_type": "markdown",
   "metadata": {},
   "source": [
    "### Agora vamos atualizar a nossa base de preços com as novas cotações"
   ]
  },
  {
   "cell_type": "markdown",
   "metadata": {},
   "source": [
    "- Importando a base de dados"
   ]
  },
  {
   "cell_type": "code",
   "execution_count": 10,
   "metadata": {
    "scrolled": true
   },
   "outputs": [
    {
     "name": "stdout",
     "output_type": "stream",
     "text": [
      "                Preço Original  Moeda  Cotação  Preço de Compra  Margem  \\\n",
      "Produtos                                                                  \n",
      "Câmera Canon            999.99  Dólar        5          4999.95    1.40   \n",
      "Carro Renault          4500.00   Euro        6         27000.00    2.00   \n",
      "Notebook Dell           899.99  Dólar        5          4499.95    1.70   \n",
      "IPhone                  799.00  Dólar        5          3995.00    1.70   \n",
      "Carro Fiat             3000.00   Euro        6         18000.00    1.90   \n",
      "Celular Xiaomi          480.48  Dólar        5          2402.40    2.00   \n",
      "Joia 20g                 20.00   Ouro      350          7000.00    1.15   \n",
      "\n",
      "                Preço de Venda  \n",
      "Produtos                        \n",
      "Câmera Canon          6999.930  \n",
      "Carro Renault        54000.000  \n",
      "Notebook Dell         7649.915  \n",
      "IPhone                6791.500  \n",
      "Carro Fiat           34200.000  \n",
      "Celular Xiaomi        4804.800  \n",
      "Joia 20g              8050.000  \n"
     ]
    }
   ],
   "source": [
    "# Passo 4: Importar a lista de produtos\n",
    "import pandas as pd\n",
    "tabela = pd.read_excel('Produtos.xlsx', index_col=0)\n",
    "\n",
    "print(tabela)"
   ]
  },
  {
   "cell_type": "markdown",
   "metadata": {},
   "source": [
    "- Atualizando os preços e o cálculo do Preço Final"
   ]
  },
  {
   "cell_type": "code",
   "execution_count": 11,
   "metadata": {
    "scrolled": false
   },
   "outputs": [
    {
     "data": {
      "text/html": [
       "<div>\n",
       "<style scoped>\n",
       "    .dataframe tbody tr th:only-of-type {\n",
       "        vertical-align: middle;\n",
       "    }\n",
       "\n",
       "    .dataframe tbody tr th {\n",
       "        vertical-align: top;\n",
       "    }\n",
       "\n",
       "    .dataframe thead th {\n",
       "        text-align: right;\n",
       "    }\n",
       "</style>\n",
       "<table border=\"1\" class=\"dataframe\">\n",
       "  <thead>\n",
       "    <tr style=\"text-align: right;\">\n",
       "      <th></th>\n",
       "      <th>Preço Original</th>\n",
       "      <th>Moeda</th>\n",
       "      <th>Cotação</th>\n",
       "      <th>Preço de Compra</th>\n",
       "      <th>Margem</th>\n",
       "      <th>Preço de Venda</th>\n",
       "    </tr>\n",
       "    <tr>\n",
       "      <th>Produtos</th>\n",
       "      <th></th>\n",
       "      <th></th>\n",
       "      <th></th>\n",
       "      <th></th>\n",
       "      <th></th>\n",
       "      <th></th>\n",
       "    </tr>\n",
       "  </thead>\n",
       "  <tbody>\n",
       "    <tr>\n",
       "      <th>Câmera Canon</th>\n",
       "      <td>999.99</td>\n",
       "      <td>Dólar</td>\n",
       "      <td>5.278900</td>\n",
       "      <td>5278.847211</td>\n",
       "      <td>1.40</td>\n",
       "      <td>7390.386095</td>\n",
       "    </tr>\n",
       "    <tr>\n",
       "      <th>Carro Renault</th>\n",
       "      <td>4500.00</td>\n",
       "      <td>Euro</td>\n",
       "      <td>5.688279</td>\n",
       "      <td>25597.254128</td>\n",
       "      <td>2.00</td>\n",
       "      <td>51194.508255</td>\n",
       "    </tr>\n",
       "    <tr>\n",
       "      <th>Notebook Dell</th>\n",
       "      <td>899.99</td>\n",
       "      <td>Dólar</td>\n",
       "      <td>5.278900</td>\n",
       "      <td>4750.957211</td>\n",
       "      <td>1.70</td>\n",
       "      <td>8076.627259</td>\n",
       "    </tr>\n",
       "    <tr>\n",
       "      <th>IPhone</th>\n",
       "      <td>799.00</td>\n",
       "      <td>Dólar</td>\n",
       "      <td>5.278900</td>\n",
       "      <td>4217.841100</td>\n",
       "      <td>1.70</td>\n",
       "      <td>7170.329870</td>\n",
       "    </tr>\n",
       "    <tr>\n",
       "      <th>Carro Fiat</th>\n",
       "      <td>3000.00</td>\n",
       "      <td>Euro</td>\n",
       "      <td>5.688279</td>\n",
       "      <td>17064.836085</td>\n",
       "      <td>1.90</td>\n",
       "      <td>32423.188561</td>\n",
       "    </tr>\n",
       "    <tr>\n",
       "      <th>Celular Xiaomi</th>\n",
       "      <td>480.48</td>\n",
       "      <td>Dólar</td>\n",
       "      <td>5.278900</td>\n",
       "      <td>2536.405872</td>\n",
       "      <td>2.00</td>\n",
       "      <td>5072.811744</td>\n",
       "    </tr>\n",
       "    <tr>\n",
       "      <th>Joia 20g</th>\n",
       "      <td>20.00</td>\n",
       "      <td>Ouro</td>\n",
       "      <td>338.430000</td>\n",
       "      <td>6768.600000</td>\n",
       "      <td>1.15</td>\n",
       "      <td>7783.890000</td>\n",
       "    </tr>\n",
       "  </tbody>\n",
       "</table>\n",
       "</div>"
      ],
      "text/plain": [
       "                Preço Original  Moeda     Cotação  Preço de Compra  Margem  \\\n",
       "Produtos                                                                     \n",
       "Câmera Canon            999.99  Dólar    5.278900      5278.847211    1.40   \n",
       "Carro Renault          4500.00   Euro    5.688279     25597.254128    2.00   \n",
       "Notebook Dell           899.99  Dólar    5.278900      4750.957211    1.70   \n",
       "IPhone                  799.00  Dólar    5.278900      4217.841100    1.70   \n",
       "Carro Fiat             3000.00   Euro    5.688279     17064.836085    1.90   \n",
       "Celular Xiaomi          480.48  Dólar    5.278900      2536.405872    2.00   \n",
       "Joia 20g                 20.00   Ouro  338.430000      6768.600000    1.15   \n",
       "\n",
       "                Preço de Venda  \n",
       "Produtos                        \n",
       "Câmera Canon       7390.386095  \n",
       "Carro Renault     51194.508255  \n",
       "Notebook Dell      8076.627259  \n",
       "IPhone             7170.329870  \n",
       "Carro Fiat        32423.188561  \n",
       "Celular Xiaomi     5072.811744  \n",
       "Joia 20g           7783.890000  "
      ]
     },
     "metadata": {},
     "output_type": "display_data"
    }
   ],
   "source": [
    "# Passo 5: Recalcular o preço de cada produto\n",
    "# atualizar a cotação\n",
    "# nas linhas onde na coluna \"Moeda\" = Dólar\n",
    "tabela.loc[tabela[\"Moeda\"] == \"Dólar\", \"Cotação\"] = float(cotacao_dolar)\n",
    "tabela.loc[tabela[\"Moeda\"] == \"Euro\", \"Cotação\"] = float(cotacao_euro)\n",
    "tabela.loc[tabela[\"Moeda\"] == \"Ouro\", \"Cotação\"] = float(cotacao_ouro)\n",
    "\n",
    "# atualizar o preço base reais (preço base original * cotação)\n",
    "tabela[\"Preço de Compra\"] = tabela[\"Preço Original\"] * tabela[\"Cotação\"]\n",
    "\n",
    "# atualizar o preço final (preço base reais * Margem)\n",
    "tabela[\"Preço de Venda\"] = tabela[\"Preço de Compra\"] * tabela[\"Margem\"]\n",
    "\n",
    "# tabela[\"Preço de Venda\"] = tabela[\"Preço de Venda\"].map(\"R${:.2f}\".format)\n",
    "\n",
    "display(tabela)"
   ]
  },
  {
   "cell_type": "markdown",
   "metadata": {},
   "source": [
    "### Agora vamos exportar a nova base de preços atualizada"
   ]
  },
  {
   "cell_type": "code",
   "execution_count": 12,
   "metadata": {},
   "outputs": [],
   "source": [
    "# Passo 6: Salvar os novos preços dos produtos\n",
    "tabela.to_excel(\"Produtos.xlsx\", index=False)"
   ]
  }
 ],
 "metadata": {
  "kernelspec": {
   "display_name": "Python 3.10.4 64-bit",
   "language": "python",
   "name": "python3"
  },
  "language_info": {
   "codemirror_mode": {
    "name": "ipython",
    "version": 3
   },
   "file_extension": ".py",
   "mimetype": "text/x-python",
   "name": "python",
   "nbconvert_exporter": "python",
   "pygments_lexer": "ipython3",
   "version": "3.11.2"
  },
  "vscode": {
   "interpreter": {
    "hash": "369f2c481f4da34e4445cda3fffd2e751bd1c4d706f27375911949ba6bb62e1c"
   }
  }
 },
 "nbformat": 4,
 "nbformat_minor": 4
}
